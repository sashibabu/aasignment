{
 "cells": [
  {
   "cell_type": "markdown",
   "metadata": {},
   "source": [
    "## 1)Multiline statements using print function"
   ]
  },
  {
   "cell_type": "code",
   "execution_count": 2,
   "metadata": {
    "collapsed": false
   },
   "outputs": [
    {
     "name": "stdout",
     "output_type": "stream",
     "text": [
      "hii this statement will be multiline like \n",
      "      this did you see?\n",
      "      THIs \n"
     ]
    }
   ],
   "source": [
    "print('''hii this statement will be multiline like \n",
    "      this did you see?\n",
    "      THIs ''' )"
   ]
  },
  {
   "cell_type": "code",
   "execution_count": 9,
   "metadata": {
    "collapsed": false
   },
   "outputs": [
    {
     "name": "stdout",
     "output_type": "stream",
     "text": [
      "2 is an even number and is present at index number [0] and -ve index number [-9]\n",
      "5 is not an even number and is present at index number [1] and -ve index number[-8] \n",
      "9 is not an even number and is present at index number [2] and -ve index number[-7] \n",
      "7 is not an even number and is present at index number [3] and -ve index number[-6] \n",
      "6 is an even number and is present at index number [4] and -ve index number [-5]\n",
      "8 is an even number and is present at index number [5] and -ve index number [-4]\n",
      "14 is an even number and is present at index number [6] and -ve index number [-3]\n",
      "55 is not an even number and is present at index number [7] and -ve index number[-2] \n",
      "68 is an even number and is present at index number [8] and -ve index number [-1]\n",
      "done!!!\n"
     ]
    }
   ],
   "source": [
    "l=[2,5,9,7,6,8,14,55,68]\n",
    "x=0\n",
    "for i in l:\n",
    "    if i%2==0:\n",
    "        print(\"{} is an even number and is present at index number [{}] and -ve index number [{}]\".format(l[x], x,x-len(l)))\n",
    "    else:\n",
    "        print(\"{} is not an even number and is present at index number [{}] and -ve index number[{}] \".format(l[x],x,x-len(l)))\n",
    "    x+=1    \n",
    "print(\"done!!!\")  "
   ]
  },
  {
   "cell_type": "markdown",
   "metadata": {},
   "source": [
    "## 2) Properties of a list "
   ]
  },
  {
   "cell_type": "code",
   "execution_count": 35,
   "metadata": {
    "collapsed": false
   },
   "outputs": [
    {
     "data": {
      "text/html": [
       "<div>\n",
       "<table border=\"1\" class=\"dataframe\">\n",
       "  <thead>\n",
       "    <tr style=\"text-align: right;\">\n",
       "      <th></th>\n",
       "      <th>Unnamed: 0</th>\n",
       "      <th>Name</th>\n",
       "      <th>Marks</th>\n",
       "      <th>Gender</th>\n",
       "      <th>Age</th>\n",
       "      <th>Location</th>\n",
       "    </tr>\n",
       "  </thead>\n",
       "  <tbody>\n",
       "    <tr>\n",
       "      <th>0</th>\n",
       "      <td>0</td>\n",
       "      <td>dave</td>\n",
       "      <td>55</td>\n",
       "      <td>Male</td>\n",
       "      <td>32</td>\n",
       "      <td>New York</td>\n",
       "    </tr>\n",
       "    <tr>\n",
       "      <th>1</th>\n",
       "      <td>1</td>\n",
       "      <td>tom</td>\n",
       "      <td>66</td>\n",
       "      <td>Male</td>\n",
       "      <td>36</td>\n",
       "      <td>NaN</td>\n",
       "    </tr>\n",
       "    <tr>\n",
       "      <th>2</th>\n",
       "      <td>2</td>\n",
       "      <td>katie</td>\n",
       "      <td>32</td>\n",
       "      <td>Female</td>\n",
       "      <td>29</td>\n",
       "      <td>new jersey</td>\n",
       "    </tr>\n",
       "    <tr>\n",
       "      <th>3</th>\n",
       "      <td>3</td>\n",
       "      <td>robert</td>\n",
       "      <td>29</td>\n",
       "      <td>Male</td>\n",
       "      <td>40</td>\n",
       "      <td>chicago</td>\n",
       "    </tr>\n",
       "    <tr>\n",
       "      <th>4</th>\n",
       "      <td>4</td>\n",
       "      <td>patrick</td>\n",
       "      <td>87</td>\n",
       "      <td>Male</td>\n",
       "      <td>35</td>\n",
       "      <td>seattle</td>\n",
       "    </tr>\n",
       "    <tr>\n",
       "      <th>5</th>\n",
       "      <td>5</td>\n",
       "      <td>gavin</td>\n",
       "      <td>11</td>\n",
       "      <td>Male</td>\n",
       "      <td>38</td>\n",
       "      <td>los angeles</td>\n",
       "    </tr>\n",
       "    <tr>\n",
       "      <th>6</th>\n",
       "      <td>6</td>\n",
       "      <td>sarah</td>\n",
       "      <td>50</td>\n",
       "      <td>Female</td>\n",
       "      <td>40</td>\n",
       "      <td>las vegas</td>\n",
       "    </tr>\n",
       "  </tbody>\n",
       "</table>\n",
       "</div>"
      ],
      "text/plain": [
       "   Unnamed: 0     Name  Marks  Gender  Age     Location\n",
       "0           0     dave     55    Male   32     New York\n",
       "1           1      tom     66    Male   36          NaN\n",
       "2           2    katie     32  Female   29   new jersey\n",
       "3           3   robert     29    Male   40      chicago\n",
       "4           4  patrick     87    Male   35      seattle\n",
       "5           5    gavin     11    Male   38  los angeles\n",
       "6           6    sarah     50  Female   40    las vegas"
      ]
     },
     "execution_count": 35,
     "metadata": {},
     "output_type": "execute_result"
    }
   ],
   "source": [
    "import numpy as np\n",
    "import pandas as pd\n",
    "df = pd.read_csv(\"marks.csv\")\n",
    "df\n",
    "df.head()\n",
    "df.tail()\n",
    "df.head(3)\n",
    "df.tail(2)\n",
    "df.sample(3)\n",
    "df.Name\n",
    "pd.isnull(df[['Name','Age']])\n",
    "df.fillna({'Age':35}, inplace = True)\n",
    "df.to_csv(\"new1.csv\")\n",
    "df\n",
    "df1=pd.read_csv(\"new.csv\")\n",
    "df1.fillna({'Gender':'Male','Age':40} , inplace = True)\n",
    "#df.columns\n",
    "df1.to_csv(\"new.csv\")\n",
    "df1\n",
    "\n"
   ]
  },
  {
   "cell_type": "code",
   "execution_count": null,
   "metadata": {
    "collapsed": true
   },
   "outputs": [],
   "source": []
  },
  {
   "cell_type": "code",
   "execution_count": null,
   "metadata": {
    "collapsed": true
   },
   "outputs": [],
   "source": []
  }
 ],
 "metadata": {
  "kernelspec": {
   "display_name": "Python 2",
   "language": "python",
   "name": "python2"
  },
  "language_info": {
   "codemirror_mode": {
    "name": "ipython",
    "version": 2
   },
   "file_extension": ".py",
   "mimetype": "text/x-python",
   "name": "python",
   "nbconvert_exporter": "python",
   "pygments_lexer": "ipython2",
   "version": "2.7.10"
  }
 },
 "nbformat": 4,
 "nbformat_minor": 0
}
